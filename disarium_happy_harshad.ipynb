{
 "cells": [
  {
   "cell_type": "code",
   "execution_count": 1,
   "id": "6c645905",
   "metadata": {},
   "outputs": [
    {
     "name": "stdout",
     "output_type": "stream",
     "text": [
      "175  is a disarium number\n"
     ]
    }
   ],
   "source": [
    "#1. Write a Python program to check if the given number is a Disarium Number?\n",
    "#175 \n",
    "#1^1+7^2+5^3= 1+49+125 = 175 \n",
    "import math\n",
    "import copy\n",
    "n = 175\n",
    "k=m=n\n",
    "ln = 0\n",
    "while(n>1):\n",
    "    n=n/10\n",
    "    ln = ln + 1\n",
    "summ = 0\n",
    "while(ln>0):\n",
    "    rem = k%10\n",
    "    summ = summ + (math.pow(rem,ln))\n",
    "    k=int(k/10)\n",
    "    ln = ln - 1\n",
    "if(m==summ):\n",
    "    print(m,\" is a disarium number\")\n",
    "\n"
   ]
  },
  {
   "cell_type": "code",
   "execution_count": 2,
   "id": "73e31494",
   "metadata": {},
   "outputs": [
    {
     "name": "stdout",
     "output_type": "stream",
     "text": [
      "2  is a disarium number\n",
      "3  is a disarium number\n",
      "4  is a disarium number\n",
      "5  is a disarium number\n",
      "6  is a disarium number\n",
      "7  is a disarium number\n",
      "8  is a disarium number\n",
      "9  is a disarium number\n",
      "89  is a disarium number\n"
     ]
    }
   ],
   "source": [
    "#2. Write a Python program to print all disarium numbers between 1 to 100?\n",
    "import math\n",
    "import copy\n",
    "for i in range(1,101):\n",
    "    n = k = m = i\n",
    "    ln = 0\n",
    "    while(n>1):\n",
    "        n=n/10\n",
    "        ln = ln + 1\n",
    "    summ = 0\n",
    "    while(ln>0):\n",
    "        rem = k%10\n",
    "        summ = summ + (math.pow(rem,ln))\n",
    "        k=int(k/10)\n",
    "        ln = ln - 1\n",
    "    if(m==summ):\n",
    "        print(m,\" is a disarium number\")\n",
    "\n"
   ]
  },
  {
   "cell_type": "code",
   "execution_count": 3,
   "id": "fb4c3b59",
   "metadata": {},
   "outputs": [
    {
     "name": "stdout",
     "output_type": "stream",
     "text": [
      "13 is a happy number\n"
     ]
    }
   ],
   "source": [
    "#3. Write a Python program to check if the given number is Happy Number?\n",
    "# 13 = 1*1+3*3 = 1+9 = 10 = 1*1+0*0 = 1 \n",
    "def happy(num):    \n",
    "    rem = summ = 0;    \n",
    "        \n",
    "    #Calculates the sum of squares of digits    \n",
    "    while(num > 0):    \n",
    "        rem = num%10;    \n",
    "        summ = summ + (rem*rem);    \n",
    "        num = num//10;    \n",
    "    return summ;    \n",
    "        \n",
    "num = 13;    \n",
    "res = num;    \n",
    "     \n",
    "while(res != 1 and res != 4):    \n",
    "    res = happy(res);    \n",
    "     \n",
    "#Happy number always ends with 1    \n",
    "if(res == 1):    \n",
    "    print(str(num) + \" is a happy number\");    \n",
    "#Unhappy number ends in a cycle of repeating numbers which contain 4    \n",
    "elif(res == 4):    \n",
    "    print(str(num) + \" is not a happy number\");   \n",
    "\n"
   ]
  },
  {
   "cell_type": "code",
   "execution_count": 4,
   "id": "65012263",
   "metadata": {},
   "outputs": [
    {
     "name": "stdout",
     "output_type": "stream",
     "text": [
      "happy numbers are : \n",
      "1\n",
      "7\n",
      "10\n",
      "13\n",
      "19\n",
      "23\n",
      "28\n",
      "31\n",
      "32\n",
      "44\n",
      "49\n",
      "68\n",
      "70\n",
      "79\n",
      "82\n",
      "86\n",
      "91\n",
      "94\n",
      "97\n",
      "100\n"
     ]
    }
   ],
   "source": [
    "#4. Write a Python program to print all happy numbers between 1 and 100?\n",
    "print(\"happy numbers are : \") \n",
    "for i in range(1,101):\n",
    "        \n",
    "    def happy(num):    \n",
    "        rem = summ = 0;    \n",
    "            \n",
    "        #Calculates the sum of squares of digits    \n",
    "        while(num > 0):    \n",
    "            rem = num%10;    \n",
    "            summ = summ + (rem*rem);    \n",
    "            num = num//10;    \n",
    "        return summ;    \n",
    "        \n",
    "        \n",
    "    \n",
    "    num = i;    \n",
    "    res = num;    \n",
    "     \n",
    "    while(res != 1 and res != 4):    \n",
    "        res = happy(res);    \n",
    "         \n",
    "    #Happy number always ends with 1    \n",
    "    if(res == 1):    \n",
    "        print(str(num));    \n"
   ]
  },
  {
   "cell_type": "code",
   "execution_count": 5,
   "id": "61d44409",
   "metadata": {},
   "outputs": [
    {
     "name": "stdout",
     "output_type": "stream",
     "text": [
      "3\n",
      "111 is a harshad number\n"
     ]
    }
   ],
   "source": [
    "#5. Write a Python program to determine whether the given number is a Harshad Number?\n",
    "# 111 - 111/1+1+1 = 33 remainder is zero\n",
    "def harshad(num):\n",
    "    summ=rem=0\n",
    "    while(num>1):\n",
    "        rem=num%10\n",
    "        summ=summ+rem\n",
    "        num=num/10\n",
    "    return summ\n",
    "num = 111\n",
    "n = num\n",
    "res = int(harshad(num))\n",
    "print(res)\n",
    "if(n%res == 0):\n",
    "    print(n,\"is a harshad number\")\n",
    "else:\n",
    "    print(n,\"is not harshad number\")\n"
   ]
  },
  {
   "cell_type": "code",
   "execution_count": 8,
   "id": "b06e00b6",
   "metadata": {},
   "outputs": [
    {
     "name": "stdout",
     "output_type": "stream",
     "text": [
      "Pronic numbers between 1 to 100 : \n",
      "2\n",
      "6\n",
      "12\n",
      "20\n",
      "30\n",
      "42\n",
      "56\n",
      "72\n",
      "90\n"
     ]
    }
   ],
   "source": [
    "#6. Write a Python program to print all pronic numbers between 1 and 100?\n",
    "# 6 = in the range of 1,2,3,4,5,6 = 2*3 = 6 \n",
    "def pronic(num):\n",
    "    flag=False\n",
    "    for i in range(1,num+1):\n",
    "        if(i*(i+1)==num):\n",
    "            flag=True\n",
    "            return flag\n",
    "print(\"Pronic numbers between 1 to 100 : \")\n",
    "for i in range(1,101):\n",
    "    var=pronic(i)\n",
    "    if(var==True):\n",
    "        print(i)\n"
   ]
  },
  {
   "cell_type": "code",
   "execution_count": null,
   "id": "4b5649d9",
   "metadata": {},
   "outputs": [],
   "source": []
  }
 ],
 "metadata": {
  "kernelspec": {
   "display_name": "Python 3 (ipykernel)",
   "language": "python",
   "name": "python3"
  },
  "language_info": {
   "codemirror_mode": {
    "name": "ipython",
    "version": 3
   },
   "file_extension": ".py",
   "mimetype": "text/x-python",
   "name": "python",
   "nbconvert_exporter": "python",
   "pygments_lexer": "ipython3",
   "version": "3.9.7"
  }
 },
 "nbformat": 4,
 "nbformat_minor": 5
}
