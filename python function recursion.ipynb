{
 "cells": [
  {
   "cell_type": "code",
   "execution_count": 1,
   "id": "a1133e3a",
   "metadata": {},
   "outputs": [
    {
     "name": "stdout",
     "output_type": "stream",
     "text": [
      "enter the range of fibo sequence9\n",
      "0\n",
      "1\n",
      "1\n",
      "2\n",
      "3\n",
      "5\n",
      "8\n",
      "13\n",
      "21\n"
     ]
    }
   ],
   "source": [
    "#1. Write a Python Program to Display Fibonacci Sequence Using Recursion?\n",
    "\n",
    "def fibo(k):\n",
    "    if k<=1:\n",
    "        return k\n",
    "    else:\n",
    "        return(fibo(k-1)+fibo(k-2))\n",
    "n=int(input(\"enter the range of fibo sequence\"))\n",
    "for i in range(n):\n",
    "    print(fibo(i))\n"
   ]
  },
  {
   "cell_type": "code",
   "execution_count": 3,
   "id": "288b3805",
   "metadata": {},
   "outputs": [
    {
     "name": "stdout",
     "output_type": "stream",
     "text": [
      "enter the number to find factorial 5\n",
      "factorial is :  120\n"
     ]
    }
   ],
   "source": [
    "#2. Write a Python Program to Find Factorial of Number Using Recursion?\n",
    "def fact(k):\n",
    "    if k<=1:\n",
    "        return k\n",
    "    else:\n",
    "        return(k*fact(k-1)) \n",
    "n=int(input(\"enter the number to find factorial \"))\n",
    "print(\"factorial is : \",fact(n))\n"
   ]
  },
  {
   "cell_type": "code",
   "execution_count": 4,
   "id": "23aa480e",
   "metadata": {},
   "outputs": [
    {
     "name": "stdout",
     "output_type": "stream",
     "text": [
      "enter your hieght in cm159\n",
      "enter your wieght in kg60\n",
      "23.73323840037973\n"
     ]
    }
   ],
   "source": [
    "#3. Write a Python Program to calculate your Body Mass Index?\n",
    "height = float(input(\"enter your hieght in cm\"))\n",
    "weight = float(input(\"enter your wieght in kg\"))\n",
    "BMI = weight / (height/100)**2\n",
    "print(BMI)\n"
   ]
  },
  {
   "cell_type": "code",
   "execution_count": 5,
   "id": "06dd6ae3",
   "metadata": {},
   "outputs": [
    {
     "name": "stdout",
     "output_type": "stream",
     "text": [
      "enter the number to find log of9\n",
      "2.1972245773362196\n"
     ]
    }
   ],
   "source": [
    "#4. Write a Python Program to calculate the natural logarithm of any number?\n",
    "import math\n",
    "n=int(input(\"enter the number to find log of\"))\n",
    "print(math.log(n))\n"
   ]
  },
  {
   "cell_type": "code",
   "execution_count": 7,
   "id": "33128dda",
   "metadata": {},
   "outputs": [
    {
     "name": "stdout",
     "output_type": "stream",
     "text": [
      "enter the number to find cube sum of3\n",
      "36\n"
     ]
    }
   ],
   "source": [
    "#5. Write a Python Program for cube sum of first n natural numbers?\n",
    "n=int(input(\"enter the number to find cube sum of\"))\n",
    "sum=0\n",
    "def cube(i):\n",
    "    return i*i*i\n",
    "for i in range(1,n+1):\n",
    "    sum=sum+cube(i)\n",
    "print(sum)"
   ]
  },
  {
   "cell_type": "code",
   "execution_count": null,
   "id": "dcdd87d3",
   "metadata": {},
   "outputs": [],
   "source": []
  }
 ],
 "metadata": {
  "kernelspec": {
   "display_name": "Python 3 (ipykernel)",
   "language": "python",
   "name": "python3"
  },
  "language_info": {
   "codemirror_mode": {
    "name": "ipython",
    "version": 3
   },
   "file_extension": ".py",
   "mimetype": "text/x-python",
   "name": "python",
   "nbconvert_exporter": "python",
   "pygments_lexer": "ipython3",
   "version": "3.9.7"
  }
 },
 "nbformat": 4,
 "nbformat_minor": 5
}
