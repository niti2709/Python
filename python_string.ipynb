{
 "cells": [
  {
   "cell_type": "code",
   "execution_count": 1,
   "id": "52abac5a",
   "metadata": {},
   "outputs": [
    {
     "name": "stdout",
     "output_type": "stream",
     "text": [
      "fiserv\n",
      "good\n",
      "company\n"
     ]
    }
   ],
   "source": [
    "#1. Write a Python program to find words which are greater than given length k?\n",
    "str1=\"fiserv is a good company\"\n",
    "k=3\n",
    "l = str1.split()\n",
    "for word in l:\n",
    "    if(len(word)>k):\n",
    "        print(word) \n"
   ]
  },
  {
   "cell_type": "code",
   "execution_count": 2,
   "id": "7e9030bf",
   "metadata": {},
   "outputs": [
    {
     "name": "stdout",
     "output_type": "stream",
     "text": [
      "learning python\n"
     ]
    }
   ],
   "source": [
    "#2. Write a Python program for removing i-th character from a string?\n",
    "str1='learningg python'\n",
    "i=9\n",
    "str1=str1[:i-1]+str1[i:]\n",
    "print(str1)\n"
   ]
  },
  {
   "cell_type": "code",
   "execution_count": 3,
   "id": "4d3c5e6d",
   "metadata": {},
   "outputs": [
    {
     "name": "stdout",
     "output_type": "stream",
     "text": [
      "splitted string is:  learning python\n",
      "joint string is:  learning-python\n"
     ]
    }
   ],
   "source": [
    "#3. Write a Python program to split and join a string?\n",
    "str1='learning python'\n",
    "list1=str1.split()\n",
    "print(\"splitted string is: \",str1)\n",
    "str2='-'.join(list1)\n",
    "print('joint string is: ',str2)\n"
   ]
  },
  {
   "cell_type": "code",
   "execution_count": 4,
   "id": "f85fa266",
   "metadata": {},
   "outputs": [
    {
     "name": "stdout",
     "output_type": "stream",
     "text": [
      "it is a binary string\n"
     ]
    }
   ],
   "source": [
    "#4. Write a Python to check if a given string is binary string or not?\n",
    "str1='101010'\n",
    "flag=False\n",
    "for i in str1:\n",
    "    if(i=='1' or i=='0'):\n",
    "        flag=True\n",
    "    else:\n",
    "        flag=False\n",
    "if(flag==True):\n",
    "    print('it is a binary string')\n"
   ]
  },
  {
   "cell_type": "code",
   "execution_count": 5,
   "id": "8b7e59db",
   "metadata": {},
   "outputs": [
    {
     "name": "stdout",
     "output_type": "stream",
     "text": [
      "niti\n",
      "gita\n"
     ]
    }
   ],
   "source": [
    "#5. Write a Python program to find uncommon words from two Strings?\n",
    "str1=\"my name is niti srivastava\"\n",
    "str2=\"my name is gita srivastava\"\n",
    "l1=str1.split()\n",
    "l2=str2.split()\n",
    "for i in l1:\n",
    "    if(i not in l2):\n",
    "        print(i)\n",
    "for i in l2: \n",
    "    if(i not in l1):\n",
    "        print(i)\n"
   ]
  },
  {
   "cell_type": "code",
   "execution_count": 6,
   "id": "0d9142fc",
   "metadata": {},
   "outputs": [
    {
     "name": "stdout",
     "output_type": "stream",
     "text": [
      "['m', ' ', 'n', 'a', 'i', 's', 't', 'v']\n"
     ]
    }
   ],
   "source": [
    "#6. Write a Python to find all duplicate characters in string?\n",
    "str1=\"my name is niti srivastava  \"\n",
    "dup=[]\n",
    "for i in str1:\n",
    "    if str1.count(i)>1:\n",
    "        if i not in dup:\n",
    "            dup.append(i)\n",
    "print(dup)\n",
    "\n"
   ]
  },
  {
   "cell_type": "code",
   "execution_count": 7,
   "id": "07441450",
   "metadata": {},
   "outputs": [
    {
     "name": "stdout",
     "output_type": "stream",
     "text": [
      "presence of special character\n"
     ]
    }
   ],
   "source": [
    "#7. Write a Python Program to check if a string contains any special character?\n",
    "import re\n",
    "str1=\"my name is , niti_srivastava\"\n",
    "regex = re.compile('[@_!#$%^&*()<>?/\\|}{~:]')\n",
    "if(regex.search(str1) == None):\n",
    "    print(\"valid string\")\n",
    "else:\n",
    "    print(\"presence of special character\")\n"
   ]
  }
 ],
 "metadata": {
  "kernelspec": {
   "display_name": "Python 3 (ipykernel)",
   "language": "python",
   "name": "python3"
  },
  "language_info": {
   "codemirror_mode": {
    "name": "ipython",
    "version": 3
   },
   "file_extension": ".py",
   "mimetype": "text/x-python",
   "name": "python",
   "nbconvert_exporter": "python",
   "pygments_lexer": "ipython3",
   "version": "3.9.7"
  }
 },
 "nbformat": 4,
 "nbformat_minor": 5
}
