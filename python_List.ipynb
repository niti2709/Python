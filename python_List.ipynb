{
 "cells": [
  {
   "cell_type": "code",
   "execution_count": 1,
   "id": "2c35c36c",
   "metadata": {},
   "outputs": [
    {
     "name": "stdout",
     "output_type": "stream",
     "text": [
      "15\n"
     ]
    }
   ],
   "source": [
    "#1. Write a Python program to find sum of elements in list?\n",
    "def summ(l):\n",
    "    tot=0\n",
    "    for i in range(len(l)):\n",
    "        tot = tot + l[i]\n",
    "    return tot\n",
    "l = [1,2,3,4,5]\n",
    "print(summ(l))\n"
   ]
  },
  {
   "cell_type": "code",
   "execution_count": 2,
   "id": "6a69635d",
   "metadata": {},
   "outputs": [
    {
     "name": "stdout",
     "output_type": "stream",
     "text": [
      "120\n"
     ]
    }
   ],
   "source": [
    "#2. Write a Python program to Multiply all numbers in the list?\n",
    "def dot(l):\n",
    "    tot=1\n",
    "    for i in range(len(l)):\n",
    "        tot = tot * l[i]\n",
    "    return tot\n",
    "l = [1,2,3,4,5]\n",
    "print(dot(l))\n"
   ]
  },
  {
   "cell_type": "code",
   "execution_count": 3,
   "id": "bcb22e64",
   "metadata": {},
   "outputs": [
    {
     "name": "stdout",
     "output_type": "stream",
     "text": [
      "1\n"
     ]
    }
   ],
   "source": [
    "#3. Write a Python program to find smallest number in a list?\n",
    "def small(l):\n",
    "    res=l[0]\n",
    "    for i in range(len(l)-1):\n",
    "        if(l[i]<res):\n",
    "            res=l[i]\n",
    "    return res\n",
    "print(small([9,1,7,1,2,5]))\n",
    "\n"
   ]
  },
  {
   "cell_type": "code",
   "execution_count": 4,
   "id": "f7675b46",
   "metadata": {},
   "outputs": [
    {
     "name": "stdout",
     "output_type": "stream",
     "text": [
      "9\n"
     ]
    }
   ],
   "source": [
    "#4. Write a Python program to find largest number in a list?\n",
    "l = [5,1,7,1,9,5]\n",
    "l.sort()\n",
    "h = len(l) - 1\n",
    "#print(l[h:]) \n",
    "print(max(l)) \n",
    "\n"
   ]
  },
  {
   "cell_type": "code",
   "execution_count": 5,
   "id": "d1519e16",
   "metadata": {},
   "outputs": [
    {
     "name": "stdout",
     "output_type": "stream",
     "text": [
      "8\n"
     ]
    }
   ],
   "source": [
    "#5. Write a Python program to find second largest number in a list?\n",
    "l = [1,9,7,8,2,5]\n",
    "l.sort()\n",
    "print(l[len(l)-2:][0]) \n"
   ]
  },
  {
   "cell_type": "code",
   "execution_count": 6,
   "id": "3b0b38a6",
   "metadata": {},
   "outputs": [
    {
     "name": "stdout",
     "output_type": "stream",
     "text": [
      "7\n"
     ]
    }
   ],
   "source": [
    "#6. Write a Python program to find N largest elements from a list?\n",
    "l = [1,9,7,8,2,5]\n",
    "l.sort()\n",
    "n=3\n",
    "if(n <= len(l)):\n",
    "    print(l[len(l)-n:][0]) \n",
    "else:\n",
    "    print(\"invalid request \")\n",
    "\n"
   ]
  },
  {
   "cell_type": "code",
   "execution_count": 7,
   "id": "0ecaff5c",
   "metadata": {},
   "outputs": [
    {
     "name": "stdout",
     "output_type": "stream",
     "text": [
      "8\n",
      "2\n"
     ]
    }
   ],
   "source": [
    "#7. Write a Python program to print even numbers in a list?\n",
    "l = [1,9,7,8,2,5]\n",
    "for i in l:\n",
    "    if(i%2 == 0):\n",
    "        print(i)\n"
   ]
  },
  {
   "cell_type": "code",
   "execution_count": 8,
   "id": "04484efc",
   "metadata": {},
   "outputs": [
    {
     "name": "stdout",
     "output_type": "stream",
     "text": [
      "1\n",
      "9\n",
      "7\n",
      "5\n"
     ]
    }
   ],
   "source": [
    "#8. Write a Python program to print odd numbers in a List?\n",
    "l = [1,9,7,8,2,5]\n",
    "for i in l:\n",
    "    if(i%2 != 0):\n",
    "        print(i)\n"
   ]
  },
  {
   "cell_type": "code",
   "execution_count": 9,
   "id": "61f81531",
   "metadata": {},
   "outputs": [
    {
     "name": "stdout",
     "output_type": "stream",
     "text": [
      "[1, 2, 9]\n"
     ]
    }
   ],
   "source": [
    "#9. Write a Python program to Remove empty List from List?\n",
    "l = [1,2,[],9,[]]\n",
    "for i in l:\n",
    "    if(i==[]):\n",
    "        l.remove(i)\n",
    "print(l)\n"
   ]
  },
  {
   "cell_type": "code",
   "execution_count": 10,
   "id": "412a1878",
   "metadata": {},
   "outputs": [
    {
     "name": "stdout",
     "output_type": "stream",
     "text": [
      "[1, 2, 3, 4]\n"
     ]
    }
   ],
   "source": [
    "#10. Write a Python program to Cloning or Copying a list?\n",
    "l = [1,2,3,4]\n",
    "l1=l\n",
    "print(l1)\n",
    "\n"
   ]
  },
  {
   "cell_type": "code",
   "execution_count": 11,
   "id": "d0f3e22c",
   "metadata": {},
   "outputs": [
    {
     "name": "stdout",
     "output_type": "stream",
     "text": [
      "5\n"
     ]
    }
   ],
   "source": [
    "#11. Write a Python program to Count occurrences of an element in a list?\n",
    "from collections import Counter\n",
    "l=[2,2,3,3,3,4,4,4,4,4]\n",
    "c = Counter(l)\n",
    "print(c[4])\n"
   ]
  },
  {
   "cell_type": "code",
   "execution_count": null,
   "id": "a904f52b",
   "metadata": {},
   "outputs": [],
   "source": []
  }
 ],
 "metadata": {
  "kernelspec": {
   "display_name": "Python 3 (ipykernel)",
   "language": "python",
   "name": "python3"
  },
  "language_info": {
   "codemirror_mode": {
    "name": "ipython",
    "version": 3
   },
   "file_extension": ".py",
   "mimetype": "text/x-python",
   "name": "python",
   "nbconvert_exporter": "python",
   "pygments_lexer": "ipython3",
   "version": "3.9.7"
  }
 },
 "nbformat": 4,
 "nbformat_minor": 5
}
