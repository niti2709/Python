{
 "cells": [
  {
   "cell_type": "markdown",
   "id": "8efcc858",
   "metadata": {},
   "source": [
    "### Create a function in python to read the text file and replace specific content of the file."
   ]
  },
  {
   "cell_type": "code",
   "execution_count": 1,
   "id": "3d9e5651",
   "metadata": {},
   "outputs": [],
   "source": [
    "import logging as lg"
   ]
  },
  {
   "cell_type": "code",
   "execution_count": 2,
   "id": "4e4cb7d1",
   "metadata": {},
   "outputs": [],
   "source": [
    "lg.basicConfig(filename='C:\\\\Users\\\\neeti\\\\OneDrive\\\\Desktop\\\\Logging\\\\assign_1a.log' , level = lg.INFO,format  = '%(asctime)s %(message)s')"
   ]
  },
  {
   "cell_type": "code",
   "execution_count": 3,
   "id": "388178e3",
   "metadata": {},
   "outputs": [],
   "source": [
    "try:\n",
    "    f = open(\"example.txt\", \"r\")\n",
    "    lg.info(\"File is opened\")\n",
    "    for lines in f:\n",
    "        line = lines.strip()\n",
    "        file_content = line.replace(\"placement\", \"screening\")\n",
    "        lg.info(\"text replaced\")\n",
    "    f = open(\"example.txt\", \"w\")\n",
    "    f.write(file_content)\n",
    "    lg.info(\"new content written into the file\")\n",
    "except FileNotFound as e:\n",
    "    logging.exception(\"file not found exception occured\")  \n",
    "finally:\n",
    "    f.close()"
   ]
  },
  {
   "cell_type": "markdown",
   "id": "9b6495e1",
   "metadata": {},
   "source": [
    "## Demonstrate use of abstract class, multiple inheritance and decorator in python using examples."
   ]
  },
  {
   "cell_type": "markdown",
   "id": "9830961c",
   "metadata": {},
   "source": [
    "### Abstract Class"
   ]
  },
  {
   "cell_type": "markdown",
   "id": "dded6d13",
   "metadata": {},
   "source": [
    "##### Abstract class is the one which contains one or more abstract methods which needs to be defined in the child class     "
   ]
  },
  {
   "cell_type": "code",
   "execution_count": 4,
   "id": "863f0c3a",
   "metadata": {},
   "outputs": [],
   "source": [
    "from abc import abstractmethod\n",
    "class data_project:\n",
    "    @abstractmethod\n",
    "    def read_file(self):\n",
    "        pass\n",
    "    def vaildate_file_name(self):\n",
    "        pass\n",
    "    def validate_data_type(self):\n",
    "        pass\n",
    "    def validate_db_conn(self):\n",
    "        pass\n",
    "    def create_conn_db(self):\n",
    "        pass\n",
    "    def insert_data_func(self):\n",
    "        pass\n",
    "    def delete_data(self):\n",
    "        pass\n",
    "    def update_data(self):\n",
    "        pass\n",
    "    def perform_statistical_analysis(self):\n",
    "        pass\n",
    "    def perform_eda(self):\n",
    "        pass"
   ]
  },
  {
   "cell_type": "code",
   "execution_count": 5,
   "id": "8c27a477",
   "metadata": {},
   "outputs": [],
   "source": [
    "class submission1(data_project):\n",
    "    def read_file(self):\n",
    "        print(\"this is the file received for submission 1\")"
   ]
  },
  {
   "cell_type": "code",
   "execution_count": 6,
   "id": "e7199323",
   "metadata": {},
   "outputs": [],
   "source": [
    "class submission2(data_project):\n",
    "    def read_file(self):\n",
    "        print(\"this is the file received for submission 2\")"
   ]
  },
  {
   "cell_type": "code",
   "execution_count": 7,
   "id": "143d9ff8",
   "metadata": {},
   "outputs": [],
   "source": [
    "var1 = submission1()\n",
    "var2 = submission2()"
   ]
  },
  {
   "cell_type": "code",
   "execution_count": 8,
   "id": "d6977669",
   "metadata": {},
   "outputs": [
    {
     "name": "stdout",
     "output_type": "stream",
     "text": [
      "this is the file received for submission 1\n"
     ]
    }
   ],
   "source": [
    "var1.read_file()"
   ]
  },
  {
   "cell_type": "code",
   "execution_count": 9,
   "id": "19bbd992",
   "metadata": {},
   "outputs": [
    {
     "name": "stdout",
     "output_type": "stream",
     "text": [
      "this is the file received for submission 2\n"
     ]
    }
   ],
   "source": [
    "var2.read_file()"
   ]
  },
  {
   "cell_type": "markdown",
   "id": "9cccbb24",
   "metadata": {},
   "source": [
    "### Multiple inheritance"
   ]
  },
  {
   "cell_type": "code",
   "execution_count": 10,
   "id": "0056c818",
   "metadata": {},
   "outputs": [],
   "source": [
    "class Father():\n",
    "    def write(self):\n",
    "        print(\"write method from Father\")\n",
    "        \n",
    "class Mother():\n",
    "    def read(self):\n",
    "        print(\"read method from Mother\")\n",
    "        \n",
    "class Child(Father,Mother):\n",
    "    def test(self):\n",
    "        print(\"test method from Child class\")\n",
    "        \n",
    "class GrandChild(Child):\n",
    "    def test1(self):\n",
    "        print(\"test method from GrandChild class\")"
   ]
  },
  {
   "cell_type": "code",
   "execution_count": 11,
   "id": "88f29db0",
   "metadata": {},
   "outputs": [],
   "source": [
    "u=GrandChild()"
   ]
  },
  {
   "cell_type": "code",
   "execution_count": 12,
   "id": "603318d2",
   "metadata": {},
   "outputs": [
    {
     "name": "stdout",
     "output_type": "stream",
     "text": [
      "test method from Child class\n"
     ]
    }
   ],
   "source": [
    "u.test()"
   ]
  },
  {
   "cell_type": "code",
   "execution_count": 13,
   "id": "3f6f39f8",
   "metadata": {},
   "outputs": [
    {
     "name": "stdout",
     "output_type": "stream",
     "text": [
      "test method from GrandChild class\n"
     ]
    }
   ],
   "source": [
    "u.test1()"
   ]
  },
  {
   "cell_type": "code",
   "execution_count": 14,
   "id": "850df526",
   "metadata": {},
   "outputs": [
    {
     "name": "stdout",
     "output_type": "stream",
     "text": [
      "read method from Mother\n"
     ]
    }
   ],
   "source": [
    "u.read()"
   ]
  },
  {
   "cell_type": "code",
   "execution_count": 15,
   "id": "c89014fd",
   "metadata": {},
   "outputs": [
    {
     "name": "stdout",
     "output_type": "stream",
     "text": [
      "write method from Father\n"
     ]
    }
   ],
   "source": [
    "u.write()"
   ]
  },
  {
   "cell_type": "markdown",
   "id": "5d4cfa18",
   "metadata": {},
   "source": [
    "### Decorator"
   ]
  },
  {
   "cell_type": "code",
   "execution_count": 16,
   "id": "867417d1",
   "metadata": {},
   "outputs": [],
   "source": [
    "import mysql.connector as conn"
   ]
  },
  {
   "cell_type": "code",
   "execution_count": 17,
   "id": "36db85f7",
   "metadata": {},
   "outputs": [],
   "source": [
    "lg.basicConfig(filename='C:\\\\Users\\\\neeti\\\\OneDrive\\\\Desktop\\\\Logging\\\\assign_1a.log' , level = lg.INFO,format  = '%(asctime)s %(message)s')"
   ]
  },
  {
   "cell_type": "code",
   "execution_count": 18,
   "id": "1129e49d",
   "metadata": {},
   "outputs": [],
   "source": [
    "def connect_to_sql(connect1):\n",
    "    def connect_db():\n",
    "        mydb = conn.connect(host = 'localhost',user = 'root' ,passwd = \"mysql\" )\n",
    "        lg.info(\"database connected\")\n",
    "        result = connect1(mydb)\n",
    "        mydb.commit()\n",
    "        return result\n",
    "    return connect_db"
   ]
  },
  {
   "cell_type": "code",
   "execution_count": 19,
   "id": "6522c928",
   "metadata": {},
   "outputs": [],
   "source": [
    "@connect_to_sql\n",
    "def fetch_table(mydb):\n",
    "    cursor=mydb.cursor()\n",
    "    cursor.execute('select * from testassignment.ineuron')\n",
    "    result = cursor.fetchall()\n",
    "    return result\n",
    "    lg.exception(\"exception occured\"+str(e))\n",
    "    mydb.close()"
   ]
  },
  {
   "cell_type": "code",
   "execution_count": 20,
   "id": "fe9dbd90",
   "metadata": {},
   "outputs": [
    {
     "data": {
      "text/plain": [
       "[(1, 'niti', 'srivastava', 2344323, 'FSDS_NOV')]"
      ]
     },
     "execution_count": 20,
     "metadata": {},
     "output_type": "execute_result"
    }
   ],
   "source": [
    "fetch_table()"
   ]
  },
  {
   "cell_type": "code",
   "execution_count": null,
   "id": "1f350881",
   "metadata": {},
   "outputs": [],
   "source": []
  }
 ],
 "metadata": {
  "kernelspec": {
   "display_name": "Python 3 (ipykernel)",
   "language": "python",
   "name": "python3"
  },
  "language_info": {
   "codemirror_mode": {
    "name": "ipython",
    "version": 3
   },
   "file_extension": ".py",
   "mimetype": "text/x-python",
   "name": "python",
   "nbconvert_exporter": "python",
   "pygments_lexer": "ipython3",
   "version": "3.9.7"
  }
 },
 "nbformat": 4,
 "nbformat_minor": 5
}
