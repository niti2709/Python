{
 "cells": [
  {
   "cell_type": "code",
   "execution_count": 1,
   "id": "670d9688",
   "metadata": {},
   "outputs": [
    {
     "name": "stdout",
     "output_type": "stream",
     "text": [
      "30\n"
     ]
    }
   ],
   "source": [
    "#1.Write a Python Program to find sum of array?\n",
    "arr1 = [1,2,10,3,9,5]\n",
    "from functools import reduce\n",
    "arr_sum = reduce(lambda a,b : a+b, arr1)\n",
    "print(arr_sum)\n"
   ]
  },
  {
   "cell_type": "code",
   "execution_count": 2,
   "id": "59fad3ce",
   "metadata": {},
   "outputs": [
    {
     "name": "stdout",
     "output_type": "stream",
     "text": [
      "largest elem :  10\n"
     ]
    }
   ],
   "source": [
    "#2. Write a Python Program to find largest element in an array?\n",
    "arr1=[1,2,10,9,5]\n",
    "largest_element = reduce(lambda x,y: x if x>y else y, arr1)\n",
    "print(\"largest elem : \",largest_element)\n"
   ]
  },
  {
   "cell_type": "code",
   "execution_count": 3,
   "id": "181a2452",
   "metadata": {},
   "outputs": [
    {
     "name": "stdout",
     "output_type": "stream",
     "text": [
      "new array: [9, 5, 1, 2, 10]\n"
     ]
    }
   ],
   "source": [
    "#3. Write a Python Program for array rotation?\n",
    "k = 2\n",
    "left = arr1[len(arr1)-k:]\n",
    "right= arr1[:len(arr1)-k]\n",
    "arr2 = left + right\n",
    "print(\"new array:\",arr2)\n"
   ]
  },
  {
   "cell_type": "code",
   "execution_count": 4,
   "id": "2a94651d",
   "metadata": {},
   "outputs": [
    {
     "name": "stdout",
     "output_type": "stream",
     "text": [
      "after split  [10, 9, 5, 1, 2]\n"
     ]
    }
   ],
   "source": [
    "#4. Write a Python Program to Split the array and add the first part to the end?\n",
    "l = len(arr1)\n",
    "h = int(l/2)\n",
    "right = arr1[:h]\n",
    "left = arr1[h:]\n",
    "arr2 = left + right\n",
    "print(\"after split \", arr2)\n"
   ]
  },
  {
   "cell_type": "code",
   "execution_count": 5,
   "id": "3cfdff4c",
   "metadata": {},
   "outputs": [
    {
     "name": "stdout",
     "output_type": "stream",
     "text": [
      "False\n"
     ]
    }
   ],
   "source": [
    "#5. Write a Python Program to check if given array is Monotonic?\n",
    "def isMonotonic(A):\n",
    "   return (all(A[i] <= A[i + 1] for i in range(len(A) - 1)) or\n",
    "      all(A[i] >= A[i + 1] for i in range(len(A) - 1)))\n",
    "A = [1,2,10,9,7,8]\n",
    "print(isMonotonic(A))"
   ]
  },
  {
   "cell_type": "code",
   "execution_count": null,
   "id": "7ee0bcd5",
   "metadata": {},
   "outputs": [],
   "source": []
  }
 ],
 "metadata": {
  "kernelspec": {
   "display_name": "Python 3 (ipykernel)",
   "language": "python",
   "name": "python3"
  },
  "language_info": {
   "codemirror_mode": {
    "name": "ipython",
    "version": 3
   },
   "file_extension": ".py",
   "mimetype": "text/x-python",
   "name": "python",
   "nbconvert_exporter": "python",
   "pygments_lexer": "ipython3",
   "version": "3.9.7"
  }
 },
 "nbformat": 4,
 "nbformat_minor": 5
}
