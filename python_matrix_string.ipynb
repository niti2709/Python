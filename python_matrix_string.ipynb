{
 "cells": [
  {
   "cell_type": "code",
   "execution_count": 1,
   "id": "20103e64",
   "metadata": {},
   "outputs": [
    {
     "name": "stdout",
     "output_type": "stream",
     "text": [
      "addition\n",
      "[2, 4, 6]\n",
      "[8, 10, 12]\n"
     ]
    }
   ],
   "source": [
    "#1. Write a Python Program to Add Two Matrices?\n",
    "a = [[1,2,3],[4,5,6]]\n",
    "b = [[1,2,3],[4,5,6]]\n",
    "r=[[0,0,0],[0,0,0]]\n",
    "for i in range(len(a)):\n",
    "    for j in range(len(a[i])):\n",
    "        r[i][j]=a[i][j]+b[i][j]\n",
    "print(\"addition\")\n",
    "for i in r:\n",
    "    print(i)\n"
   ]
  },
  {
   "cell_type": "code",
   "execution_count": 2,
   "id": "90388b20",
   "metadata": {},
   "outputs": [
    {
     "name": "stdout",
     "output_type": "stream",
     "text": [
      "multiplication\n",
      "[58, 64]\n",
      "[139, 154]\n"
     ]
    }
   ],
   "source": [
    "#2. Write a Python Program to Multiply Two Matrices?\n",
    "a=[[1,2,3],[4,5,6]]\n",
    "b=[[7,8],[9,10],[11,12]]\n",
    "r=[[0,0],[0,0]]\n",
    "for i in range(len(a)):\n",
    "    for j in range(len(b[0])):\n",
    "        for k in range(len(b)):\n",
    "            r[i][j]+= a[i][k]*b[k][j]\n",
    "print(\"multiplication\")\n",
    "for r in r:\n",
    "    print(r)\n",
    "    \n"
   ]
  },
  {
   "cell_type": "code",
   "execution_count": 3,
   "id": "eeb086c8",
   "metadata": {},
   "outputs": [
    {
     "name": "stdout",
     "output_type": "stream",
     "text": [
      "transpose of the matrix\n",
      "[1, 4, 7]\n",
      "[2, 5, 8]\n",
      "[3, 6, 9]\n"
     ]
    }
   ],
   "source": [
    "#3. Write a Python Program to Transpose a Matrix?\n",
    "a = [[1,2,3],[4,5,6],[7,8,9]]\n",
    "b = [[0,0,0],[0,0,0],[0,0,0]]\n",
    "for i in range(len(a)):\n",
    "    for j in range(len(a)):\n",
    "        b[i][j]=a[j][i]\n",
    "print(\"transpose of the matrix\")\n",
    "for b in b:\n",
    "    print(b)\n"
   ]
  },
  {
   "cell_type": "code",
   "execution_count": 4,
   "id": "6800fff9",
   "metadata": {},
   "outputs": [
    {
     "name": "stdout",
     "output_type": "stream",
     "text": [
      "enter the string to sortmy name is Niti Srivastava\n",
      "sorted list of the word\n",
      "is\n",
      "my\n",
      "name\n",
      "niti\n",
      "srivastava\n"
     ]
    }
   ],
   "source": [
    "#4. Write a Python Program to Sort Words in Alphabetic Order?\n",
    "str1=input(\"enter the string to sort\")\n",
    "words=[word.lower() for word in str1.split()]\n",
    "words.sort()\n",
    "print(\"sorted list of the word\")\n",
    "for word in words:\n",
    "    print(word)\n"
   ]
  },
  {
   "cell_type": "code",
   "execution_count": 5,
   "id": "077b3929",
   "metadata": {},
   "outputs": [
    {
     "name": "stdout",
     "output_type": "stream",
     "text": [
      "enter the stringNiti-Srivastava! is awesome!\n",
      "replaced string is :  NitiSrivastava is awesome\n"
     ]
    }
   ],
   "source": [
    "#5. Write a Python Program to Remove Punctuation From a String?\n",
    "str1=input(\"enter the string\")\n",
    "l='''!()-[]{};:'\"\\,<>./?@#$%^&*_~'''\n",
    "for s in str1:\n",
    "    if s in l:\n",
    "        str1=str1.replace(s,\"\")\n",
    "print(\"replaced string is : \",str1)\n"
   ]
  },
  {
   "cell_type": "code",
   "execution_count": null,
   "id": "6b5277f8",
   "metadata": {},
   "outputs": [],
   "source": []
  }
 ],
 "metadata": {
  "kernelspec": {
   "display_name": "Python 3 (ipykernel)",
   "language": "python",
   "name": "python3"
  },
  "language_info": {
   "codemirror_mode": {
    "name": "ipython",
    "version": 3
   },
   "file_extension": ".py",
   "mimetype": "text/x-python",
   "name": "python",
   "nbconvert_exporter": "python",
   "pygments_lexer": "ipython3",
   "version": "3.9.7"
  }
 },
 "nbformat": 4,
 "nbformat_minor": 5
}
