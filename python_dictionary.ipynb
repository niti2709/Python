{
 "cells": [
  {
   "cell_type": "code",
   "execution_count": 1,
   "id": "c60f569e",
   "metadata": {},
   "outputs": [
    {
     "name": "stdout",
     "output_type": "stream",
     "text": [
      "{1, 3}\n"
     ]
    }
   ],
   "source": [
    "#1. Write a Python program to Extract Unique values dictionary values?\n",
    "dc={1:1,2:1,3:3}\n",
    "res=set(val for val in dc.values())\n",
    "print(res)\n"
   ]
  },
  {
   "cell_type": "code",
   "execution_count": 2,
   "id": "60268633",
   "metadata": {},
   "outputs": [
    {
     "name": "stdout",
     "output_type": "stream",
     "text": [
      "5\n"
     ]
    }
   ],
   "source": [
    "#2. Write a Python program to find the sum of all items in a dictionary?\n",
    "dc={\"a\":1,2:1,3:3}\n",
    "summ=0\n",
    "for item in dc.values():\n",
    "    summ = summ+item\n",
    "print(summ)\n"
   ]
  },
  {
   "cell_type": "code",
   "execution_count": 3,
   "id": "4d2f1757",
   "metadata": {},
   "outputs": [
    {
     "name": "stdout",
     "output_type": "stream",
     "text": [
      "{'a': 1, 'b': 2, 'c': 3, 'd': 4}\n"
     ]
    }
   ],
   "source": [
    "#3. Write a Python program to Merging two Dictionaries?\n",
    "dict1={'a':1,'b':2}\n",
    "dict2={'c':3,'d':4}\n",
    "result={**dict1,**dict2}\n",
    "print(result)\n"
   ]
  },
  {
   "cell_type": "code",
   "execution_count": 4,
   "id": "1f2a0d44",
   "metadata": {},
   "outputs": [
    {
     "name": "stdout",
     "output_type": "stream",
     "text": [
      "{'niti': 30, 'gita': 50}\n"
     ]
    }
   ],
   "source": [
    "#4. Write a Python program to convert key-values list to flat dictionary?\n",
    "dict1={'name':['niti','gita'],\n",
    "        'age':[30,50]}\n",
    "dict2=dict(zip(dict1['name'],dict1['age']))\n",
    "print(dict2)\n",
    "\n"
   ]
  },
  {
   "cell_type": "code",
   "execution_count": 5,
   "id": "a2d5337b",
   "metadata": {},
   "outputs": [
    {
     "name": "stdout",
     "output_type": "stream",
     "text": [
      "OrderedDict([('rajesh', 60), ('niti', 30), ('gita', 50)])\n"
     ]
    }
   ],
   "source": [
    "#5. Write a Python program to insertion at the beginning in OrderedDict?\n",
    "from collections import OrderedDict\n",
    "dict1=OrderedDict({'niti':30,'gita':50})\n",
    "dict1.update({'rajesh':60})\n",
    "dict1.move_to_end('rajesh',last=False)\n",
    "print(dict1)\n"
   ]
  },
  {
   "cell_type": "code",
   "execution_count": 6,
   "id": "32c75492",
   "metadata": {},
   "outputs": [
    {
     "name": "stdout",
     "output_type": "stream",
     "text": [
      "sorted by key\n",
      "1\n",
      "2\n",
      "3\n",
      "4\n",
      "5\n",
      "6\n",
      "sort by key,value\n",
      "1 2\n",
      "2 56\n",
      "3 323\n",
      "4 24\n",
      "5 12\n",
      "6 18\n"
     ]
    }
   ],
   "source": [
    "#7. Write a Python program to sort Python Dictionaries by Key or Value    \n",
    "dict1 ={}\n",
    "dict1[2] = 56      \n",
    "dict1[1] = 2\n",
    "dict1[5] = 12\n",
    "dict1[4] = 24\n",
    "dict1[6] = 18     \n",
    "dict1[3] = 323\n",
    "print(\"sorted by key\")\n",
    "for i in sorted(dict1.keys()):\n",
    "    print(i)\n",
    "print('sort by key,value')\n",
    "for i in sorted(dict1):\n",
    "    print(i,dict1[i])\n",
    "\n",
    "\n"
   ]
  },
  {
   "cell_type": "code",
   "execution_count": null,
   "id": "28d6ef80",
   "metadata": {},
   "outputs": [],
   "source": []
  }
 ],
 "metadata": {
  "kernelspec": {
   "display_name": "Python 3 (ipykernel)",
   "language": "python",
   "name": "python3"
  },
  "language_info": {
   "codemirror_mode": {
    "name": "ipython",
    "version": 3
   },
   "file_extension": ".py",
   "mimetype": "text/x-python",
   "name": "python",
   "nbconvert_exporter": "python",
   "pygments_lexer": "ipython3",
   "version": "3.9.7"
  }
 },
 "nbformat": 4,
 "nbformat_minor": 5
}
