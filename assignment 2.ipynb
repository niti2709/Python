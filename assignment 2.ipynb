{
 "cells": [
  {
   "cell_type": "markdown",
   "id": "9e04efb2",
   "metadata": {},
   "source": [
    "1.What are the two values of the Boolean data type? How do you write them?\n",
    "\n",
    "two values are True and False \n",
    "\n",
    "True False "
   ]
  },
  {
   "cell_type": "markdown",
   "id": "278a968a",
   "metadata": {},
   "source": [
    "2. What are the three different types of Boolean operators?\n",
    "\n",
    "and , or, not"
   ]
  },
  {
   "cell_type": "markdown",
   "id": "2a325709",
   "metadata": {},
   "source": [
    "3. Make a list of each Boolean operator's truth tables (i.e. every possible combination of Boolean\n",
    "values for the operator and what it evaluate ). \n",
    "\n",
    "True and True = True\n",
    "True or True = True\n",
    "True not True = False \n",
    "\n",
    "False and False = True\n",
    "False or False = True\n",
    "False not False = False\n",
    "\n",
    "True and False = False\n",
    "True or False = True\n",
    "True not False = True "
   ]
  },
  {
   "cell_type": "markdown",
   "id": "5ea454ae",
   "metadata": {},
   "source": [
    "4. What are the values of the following expressions?\n",
    "(5 > 4) and (3 == 5)  : False \n",
    "not (5 > 4) : False\n",
    "(5 > 4) or (3 == 5) : True\n",
    "not ((5 > 4) or (3 == 5)) : False\n",
    "(True and True) and (True == False) : False \n",
    "(not False) or (not True) "
   ]
  },
  {
   "cell_type": "markdown",
   "id": "f7844377",
   "metadata": {},
   "source": [
    "5. What are the six comparison operators? \n",
    "\n",
    "gt, lt, ge, le, eq , not "
   ]
  },
  {
   "cell_type": "markdown",
   "id": "54bdee2f",
   "metadata": {},
   "source": [
    "6. How do you tell the difference between the equal to and assignment operators?Describe a condition and when you would use one.    \n",
    "equal to is == \n",
    "assignment is = \n",
    "\n",
    "Condition where to use \n",
    "a=5 : assignment\n",
    "b=6 : assignemnt\n",
    "if (a>b) : condition \n",
    "then c= a-b\n",
    "else\n",
    "c=b-a\n",
    "print(c)\n",
    "\n"
   ]
  },
  {
   "cell_type": "markdown",
   "id": "6e615283",
   "metadata": {},
   "source": [
    "7. Identify the three blocks in this code:\n",
    "\n",
    "spam = 0\n",
    "\n",
    "if spam == 10: --block 1\n",
    "\n",
    "print('eggs') ---- block 1\n",
    "\n",
    "if spam > 5: -- block 2\n",
    "\n",
    "print('bacon') --- block 2\n",
    "\n",
    "else: -- block 3\n",
    "\n",
    "print('ham') -- block 3\n",
    "\n",
    "print('spam')-- block 3\n",
    "\n",
    "print('spam') -- block 3\n",
    "\n",
    "\n"
   ]
  },
  {
   "cell_type": "code",
   "execution_count": 4,
   "id": "d51768ef",
   "metadata": {},
   "outputs": [
    {
     "name": "stdout",
     "output_type": "stream",
     "text": [
      "Greetings!\n"
     ]
    }
   ],
   "source": [
    "## 8. Write code that prints Hello if 1 is stored in spam, prints Howdy if 2 is stored in spam, and prints \n",
    "#Greetings! if anything else is stored in spam. \n",
    "\n",
    "spam = 0\n",
    "if (spam==1):\n",
    "    print(\"Hello\")\n",
    "elif (spam==2):\n",
    "    print(\"Howdy\")\n",
    "else:\n",
    "    print(\"Greetings!\")\n",
    "    "
   ]
  },
  {
   "cell_type": "markdown",
   "id": "62126c20",
   "metadata": {},
   "source": [
    "##9.If your programme is stuck in an endless loop, what keys you’ll press?\n",
    "\n",
    "ctrl+c"
   ]
  },
  {
   "cell_type": "markdown",
   "id": "2c9b32f2",
   "metadata": {},
   "source": [
    "10. How can you tell the difference between break and continue?\n",
    "\n",
    "Break will terminate the iteration block and will not enter in that block again. \n",
    "\n",
    "Continue will exit a particular iteraion and re-enter the new iteration of the block. \n"
   ]
  },
  {
   "cell_type": "markdown",
   "id": "01c0bfba",
   "metadata": {},
   "source": [
    "11. In a for loop, what is the difference between range(10), range(0, 10), and range(0, 10, 1)?\n",
    "\n",
    "no difference"
   ]
  },
  {
   "cell_type": "code",
   "execution_count": 11,
   "id": "19e6ee05",
   "metadata": {},
   "outputs": [
    {
     "name": "stdout",
     "output_type": "stream",
     "text": [
      "for\n",
      "1\n",
      "2\n",
      "3\n",
      "4\n",
      "5\n",
      "6\n",
      "7\n",
      "8\n",
      "9\n",
      "10\n",
      "while\n",
      "1\n",
      "2\n",
      "3\n",
      "4\n",
      "5\n",
      "6\n",
      "7\n",
      "8\n",
      "9\n",
      "10\n"
     ]
    }
   ],
   "source": [
    "##12. Write a short program that prints the numbers 1 to 10 using a for loop. Then write an equivalent\n",
    "##program that prints the numbers 1 to 10 using a while loop.\n",
    "print(\"for\")\n",
    "for i in range(1,11,1):\n",
    "    print (i);\n",
    "print(\"while\") \n",
    "j=1\n",
    "while (j<11) :\n",
    "    print (j)\n",
    "    j= j+1"
   ]
  },
  {
   "cell_type": "markdown",
   "id": "cabe1a31",
   "metadata": {},
   "source": [
    "13. If you had a function named bacon() inside a module named spam, how would you call it after\n",
    "importing spam? \n",
    "\n",
    "spam.bacon()"
   ]
  }
 ],
 "metadata": {
  "kernelspec": {
   "display_name": "Python 3 (ipykernel)",
   "language": "python",
   "name": "python3"
  },
  "language_info": {
   "codemirror_mode": {
    "name": "ipython",
    "version": 3
   },
   "file_extension": ".py",
   "mimetype": "text/x-python",
   "name": "python",
   "nbconvert_exporter": "python",
   "pygments_lexer": "ipython3",
   "version": "3.9.7"
  }
 },
 "nbformat": 4,
 "nbformat_minor": 5
}
