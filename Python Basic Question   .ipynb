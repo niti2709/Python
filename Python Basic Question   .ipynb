{
 "cells": [
  {
   "cell_type": "markdown",
   "id": "3906e086",
   "metadata": {},
   "source": [
    "1. In the below elements which of them are values or an expression? eg:- values can be\n",
    "integer or string and expressions will be mathematical operators.\n",
    "*  expression\n",
    "&#39;hello&#39; value\n",
    "-87.8 value\n",
    "- expression\n",
    "/ expression\n",
    "+ expression\n",
    "6 values \n",
    "\n",
    "2. What is the difference between string and variable? \n",
    "string is a value provided in single or double quotes\n",
    "variable holds some value which can be accessed later in the project. \n",
    "\n",
    "3. Describe three different data types.\n",
    "integer, string, boolean \n",
    "\n",
    "4. What is an expression made up of? What do all expressions do? \n",
    "expression is made up of mathematical operators . it computes the final value. \n",
    "\n",
    "5. This assignment statements, like spam = 10. What is the difference between an expression and a statement? \n",
    "statement is some form of assignment like spam variable is assigned value 10 , is a statement. \n",
    "expression is when we evaluate the final value with combination of some varibale and mathematical operators. \n",
    "\n",
    "6. After running the following code, what does the variable bacon contain?\n",
    "bacon = 22\n",
    "bacon + 1\n",
    "\n",
    "23\n",
    "\n",
    "7. What should the values of the following two terms be?\n",
    "'spasm' + 'spasmspasm' ==> spasmspasmspasm\n",
    "'spasm' * 3 ==> spasmspasmspasm\n",
    "\n",
    "\n",
    "8. Why is eggs a valid variable name while 100 is invalid?\n",
    "because 100 is considered as a constant integer which can not be used as a variable. \n",
    "\n",
    "9. What three functions can be used to get the integer, floating-point number, or string version of a value? \n",
    "integer = int(value)\n",
    "float: float(value)\n",
    "string : value \n",
    "\n",
    "10. Why does this expression cause an error? How can you fix it?\n",
    "'I have eaten' + 99 + 'burritos' \n",
    "we can not add string along with interger, this can be fixed as \n",
    "'I have eaten' + '99' + 'burritos' \n",
    "\n"
   ]
  },
  {
   "cell_type": "code",
   "execution_count": null,
   "id": "3cfcabf1",
   "metadata": {},
   "outputs": [],
   "source": []
  }
 ],
 "metadata": {
  "kernelspec": {
   "display_name": "Python 3 (ipykernel)",
   "language": "python",
   "name": "python3"
  },
  "language_info": {
   "codemirror_mode": {
    "name": "ipython",
    "version": 3
   },
   "file_extension": ".py",
   "mimetype": "text/x-python",
   "name": "python",
   "nbconvert_exporter": "python",
   "pygments_lexer": "ipython3",
   "version": "3.9.7"
  }
 },
 "nbformat": 4,
 "nbformat_minor": 5
}
